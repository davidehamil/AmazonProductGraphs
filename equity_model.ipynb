{
 "cells": [
  {
   "cell_type": "code",
   "execution_count": 286,
   "metadata": {},
   "outputs": [],
   "source": [
    "import pandas as pd\n",
    "import numpy as np\n",
    "import scipy.sparse.csr as csr\n",
    "import scipy.sparse as sparse\n",
    "import re\n",
    "import matplotlib.pyplot as plt\n",
    "import timeit\n",
    "import os\n",
    "import difflib \n",
    "import quandl\n",
    "from fuzzywuzzy import fuzz, process\n",
    "import ngram\n",
    "import pickle\n",
    "from sklearn.decomposition import TruncatedSVD\n",
    "from sklearn.ensemble import RandomForestRegressor, GradientBoostingRegressor\n",
    "from sklearn.model_selection import train_test_split\n",
    "from sklearn.model_selection import cross_val_score\n",
    "from sklearn import linear_model\n",
    "\n",
    "quandl.ApiConfig.api_key = 'yd_TjLR5yNUyn_5TuXdP' "
   ]
  },
  {
   "cell_type": "markdown",
   "metadata": {},
   "source": [
    "### Load Electronics product metadata from pickle"
   ]
  },
  {
   "cell_type": "code",
   "execution_count": 330,
   "metadata": {},
   "outputs": [],
   "source": [
    "dfElect = pd.read_pickle(os.getcwd() + r'\\pickle\\dfElect.pkl')"
   ]
  },
  {
   "cell_type": "code",
   "execution_count": 331,
   "metadata": {},
   "outputs": [],
   "source": [
    "dfElect['brand'] = dfElect['brand'].str.lower()"
   ]
  },
  {
   "cell_type": "code",
   "execution_count": 105,
   "metadata": {},
   "outputs": [],
   "source": [
    "def cleanCompany(name):\n",
    "    name = name.split()[0].strip().replace(',','')\n",
    "    if len(name) > 3:\n",
    "        return name.lower()\n",
    "    else:\n",
    "        return ''"
   ]
  },
  {
   "cell_type": "code",
   "execution_count": 122,
   "metadata": {},
   "outputs": [
    {
     "data": {
      "text/html": [
       "<div>\n",
       "<style scoped>\n",
       "    .dataframe tbody tr th:only-of-type {\n",
       "        vertical-align: middle;\n",
       "    }\n",
       "\n",
       "    .dataframe tbody tr th {\n",
       "        vertical-align: top;\n",
       "    }\n",
       "\n",
       "    .dataframe thead th {\n",
       "        text-align: right;\n",
       "    }\n",
       "</style>\n",
       "<table border=\"1\" class=\"dataframe\">\n",
       "  <thead>\n",
       "    <tr style=\"text-align: right;\">\n",
       "      <th></th>\n",
       "      <th>Ticker</th>\n",
       "      <th>COMPANY NAME</th>\n",
       "      <th>COUNTRY TRADED</th>\n",
       "      <th>Company</th>\n",
       "    </tr>\n",
       "  </thead>\n",
       "  <tbody>\n",
       "    <tr>\n",
       "      <th>4</th>\n",
       "      <td>AGU</td>\n",
       "      <td>Agrium Inc.</td>\n",
       "      <td>United States of America</td>\n",
       "      <td>agrium</td>\n",
       "    </tr>\n",
       "    <tr>\n",
       "      <th>6</th>\n",
       "      <td>AVD</td>\n",
       "      <td>American Vanguard Corp.</td>\n",
       "      <td>United States of America</td>\n",
       "      <td>american</td>\n",
       "    </tr>\n",
       "    <tr>\n",
       "      <th>18</th>\n",
       "      <td>CVAT</td>\n",
       "      <td>Cavitation Technologies, Inc.</td>\n",
       "      <td>United States of America</td>\n",
       "      <td>cavitation</td>\n",
       "    </tr>\n",
       "    <tr>\n",
       "      <th>20</th>\n",
       "      <td>CERE</td>\n",
       "      <td>Ceres, Inc.</td>\n",
       "      <td>United States of America</td>\n",
       "      <td>ceres</td>\n",
       "    </tr>\n",
       "    <tr>\n",
       "      <th>31</th>\n",
       "      <td>CGA</td>\n",
       "      <td>China Green Agriculture, Inc.</td>\n",
       "      <td>United States of America</td>\n",
       "      <td>china</td>\n",
       "    </tr>\n",
       "    <tr>\n",
       "      <th>58</th>\n",
       "      <td>GROG</td>\n",
       "      <td>GroGenesis, Inc.</td>\n",
       "      <td>United States of America</td>\n",
       "      <td>grogenesis</td>\n",
       "    </tr>\n",
       "    <tr>\n",
       "      <th>71</th>\n",
       "      <td>IPI</td>\n",
       "      <td>Intrepid Potash, Inc.</td>\n",
       "      <td>United States of America</td>\n",
       "      <td>intrepid</td>\n",
       "    </tr>\n",
       "    <tr>\n",
       "      <th>78</th>\n",
       "      <td>KWBT</td>\n",
       "      <td>Kiwa Bio-Tech Products Group C</td>\n",
       "      <td>United States of America</td>\n",
       "      <td>kiwa</td>\n",
       "    </tr>\n",
       "    <tr>\n",
       "      <th>85</th>\n",
       "      <td>MBII</td>\n",
       "      <td>Marrone Bio Innovations, Inc.</td>\n",
       "      <td>United States of America</td>\n",
       "      <td>marrone</td>\n",
       "    </tr>\n",
       "    <tr>\n",
       "      <th>96</th>\n",
       "      <td>MON</td>\n",
       "      <td>Monsanto Company</td>\n",
       "      <td>United States of America</td>\n",
       "      <td>monsanto</td>\n",
       "    </tr>\n",
       "  </tbody>\n",
       "</table>\n",
       "</div>"
      ],
      "text/plain": [
       "   Ticker                    COMPANY NAME            COUNTRY TRADED  \\\n",
       "4     AGU                     Agrium Inc.  United States of America   \n",
       "6     AVD         American Vanguard Corp.  United States of America   \n",
       "18   CVAT   Cavitation Technologies, Inc.  United States of America   \n",
       "20   CERE                     Ceres, Inc.  United States of America   \n",
       "31    CGA   China Green Agriculture, Inc.  United States of America   \n",
       "58   GROG                GroGenesis, Inc.  United States of America   \n",
       "71    IPI           Intrepid Potash, Inc.  United States of America   \n",
       "78   KWBT  Kiwa Bio-Tech Products Group C  United States of America   \n",
       "85   MBII   Marrone Bio Innovations, Inc.  United States of America   \n",
       "96    MON                Monsanto Company  United States of America   \n",
       "\n",
       "       Company  \n",
       "4       agrium  \n",
       "6     american  \n",
       "18  cavitation  \n",
       "20       ceres  \n",
       "31       china  \n",
       "58  grogenesis  \n",
       "71    intrepid  \n",
       "78        kiwa  \n",
       "85     marrone  \n",
       "96    monsanto  "
      ]
     },
     "execution_count": 122,
     "metadata": {},
     "output_type": "execute_result"
    }
   ],
   "source": [
    "stocklist = pd.read_csv(os.getcwd() + r'\\yahoo_stocklist.csv',header=0, encoding='latin-1', \n",
    "                        usecols=[\"YAHOO TICKER\",\"COMPANY NAME\", 'COUNTRY TRADED'])\n",
    "stocklist = stocklist[stocklist['COUNTRY TRADED'] == 'United States of America']\n",
    "stocklist = stocklist[~stocklist['COMPANY NAME'].isnull()]\n",
    "stocklist['Company'] = stocklist['COMPANY NAME'].apply(cleanCompany)\n",
    "stocklist = stocklist[stocklist['Company'] != '']\n",
    "stocklist.rename(columns={'YAHOO TICKER': 'Ticker'}, inplace=True)\n",
    "stocklist.head(10)"
   ]
  },
  {
   "cell_type": "code",
   "execution_count": 332,
   "metadata": {},
   "outputs": [
    {
     "data": {
      "text/html": [
       "<div>\n",
       "<style scoped>\n",
       "    .dataframe tbody tr th:only-of-type {\n",
       "        vertical-align: middle;\n",
       "    }\n",
       "\n",
       "    .dataframe tbody tr th {\n",
       "        vertical-align: top;\n",
       "    }\n",
       "\n",
       "    .dataframe thead th {\n",
       "        text-align: right;\n",
       "    }\n",
       "</style>\n",
       "<table border=\"1\" class=\"dataframe\">\n",
       "  <thead>\n",
       "    <tr style=\"text-align: right;\">\n",
       "      <th></th>\n",
       "      <th>brand</th>\n",
       "      <th>0</th>\n",
       "    </tr>\n",
       "  </thead>\n",
       "  <tbody>\n",
       "    <tr>\n",
       "      <th>0</th>\n",
       "      <td>1800battery</td>\n",
       "      <td>19</td>\n",
       "    </tr>\n",
       "    <tr>\n",
       "      <th>1</th>\n",
       "      <td>180s</td>\n",
       "      <td>7</td>\n",
       "    </tr>\n",
       "    <tr>\n",
       "      <th>2</th>\n",
       "      <td>2cool</td>\n",
       "      <td>4</td>\n",
       "    </tr>\n",
       "    <tr>\n",
       "      <th>3</th>\n",
       "      <td>2gig</td>\n",
       "      <td>14</td>\n",
       "    </tr>\n",
       "    <tr>\n",
       "      <th>4</th>\n",
       "      <td>2k</td>\n",
       "      <td>11</td>\n",
       "    </tr>\n",
       "    <tr>\n",
       "      <th>5</th>\n",
       "      <td>2wire</td>\n",
       "      <td>3</td>\n",
       "    </tr>\n",
       "    <tr>\n",
       "      <th>6</th>\n",
       "      <td>2xl</td>\n",
       "      <td>11</td>\n",
       "    </tr>\n",
       "    <tr>\n",
       "      <th>7</th>\n",
       "      <td>3 legged thing</td>\n",
       "      <td>7</td>\n",
       "    </tr>\n",
       "    <tr>\n",
       "      <th>8</th>\n",
       "      <td>3cleader</td>\n",
       "      <td>47</td>\n",
       "    </tr>\n",
       "    <tr>\n",
       "      <th>9</th>\n",
       "      <td>3com</td>\n",
       "      <td>9</td>\n",
       "    </tr>\n",
       "  </tbody>\n",
       "</table>\n",
       "</div>"
      ],
      "text/plain": [
       "            brand   0\n",
       "0     1800battery  19\n",
       "1            180s   7\n",
       "2           2cool   4\n",
       "3            2gig  14\n",
       "4              2k  11\n",
       "5           2wire   3\n",
       "6             2xl  11\n",
       "7  3 legged thing   7\n",
       "8        3cleader  47\n",
       "9            3com   9"
      ]
     },
     "execution_count": 332,
     "metadata": {},
     "output_type": "execute_result"
    }
   ],
   "source": [
    "brands = dfElect.groupby('brand').size().reset_index()\n",
    "brands.head(10)"
   ]
  },
  {
   "cell_type": "code",
   "execution_count": 109,
   "metadata": {},
   "outputs": [],
   "source": [
    "def findMatch(company):\n",
    "    return process.extractOne(company, stocklist['Company'].values.tolist(), scorer=fuzz.ratio, score_cutoff=95)"
   ]
  },
  {
   "cell_type": "code",
   "execution_count": 68,
   "metadata": {},
   "outputs": [],
   "source": [
    "if 0:\n",
    "    G = ngram.NGram(stocklist['Company'].values.tolist())\n",
    "    brands['Company'] = brands['brand'].iloc[:100].apply(lambda x: G.find(x))"
   ]
  },
  {
   "cell_type": "code",
   "execution_count": 113,
   "metadata": {},
   "outputs": [
    {
     "name": "stdout",
     "output_type": "stream",
     "text": [
      "266.75 seconds\n"
     ]
    }
   ],
   "source": [
    "start_time = timeit.default_timer()\n",
    "\n",
    "brands['Company'] = brands['brand'].apply(findMatch)\n",
    "\n",
    "print('{0:.2f} seconds'.format(timeit.default_timer() - start_time))"
   ]
  },
  {
   "cell_type": "code",
   "execution_count": 166,
   "metadata": {},
   "outputs": [],
   "source": [
    "brands.to_pickle('matched_brands.pkl')"
   ]
  },
  {
   "cell_type": "code",
   "execution_count": 334,
   "metadata": {},
   "outputs": [],
   "source": [
    "brands = pd.read_pickle('matched_brands.pkl')"
   ]
  },
  {
   "cell_type": "code",
   "execution_count": 336,
   "metadata": {},
   "outputs": [],
   "source": [
    "brands = brands[~brands['Company'].isnull()]"
   ]
  },
  {
   "cell_type": "code",
   "execution_count": 119,
   "metadata": {},
   "outputs": [],
   "source": [
    "brands['Company'] = brands['Company'].apply(lambda x: x[0])"
   ]
  },
  {
   "cell_type": "code",
   "execution_count": 337,
   "metadata": {},
   "outputs": [
    {
     "data": {
      "text/html": [
       "<div>\n",
       "<style scoped>\n",
       "    .dataframe tbody tr th:only-of-type {\n",
       "        vertical-align: middle;\n",
       "    }\n",
       "\n",
       "    .dataframe tbody tr th {\n",
       "        vertical-align: top;\n",
       "    }\n",
       "\n",
       "    .dataframe thead th {\n",
       "        text-align: right;\n",
       "    }\n",
       "</style>\n",
       "<table border=\"1\" class=\"dataframe\">\n",
       "  <thead>\n",
       "    <tr style=\"text-align: right;\">\n",
       "      <th></th>\n",
       "      <th>brand</th>\n",
       "      <th>0</th>\n",
       "      <th>Company</th>\n",
       "      <th>Ticker</th>\n",
       "      <th>2009</th>\n",
       "      <th>2010</th>\n",
       "      <th>2011</th>\n",
       "      <th>2012</th>\n",
       "      <th>2013</th>\n",
       "      <th>2014</th>\n",
       "    </tr>\n",
       "  </thead>\n",
       "  <tbody>\n",
       "    <tr>\n",
       "      <th>0</th>\n",
       "      <td>sony</td>\n",
       "      <td>2164</td>\n",
       "      <td>sony</td>\n",
       "      <td>SNE</td>\n",
       "      <td>NaN</td>\n",
       "      <td>NaN</td>\n",
       "      <td>NaN</td>\n",
       "      <td>NaN</td>\n",
       "      <td>NaN</td>\n",
       "      <td>NaN</td>\n",
       "    </tr>\n",
       "    <tr>\n",
       "      <th>1</th>\n",
       "      <td>canon</td>\n",
       "      <td>773</td>\n",
       "      <td>canon</td>\n",
       "      <td>CAJ</td>\n",
       "      <td>NaN</td>\n",
       "      <td>NaN</td>\n",
       "      <td>NaN</td>\n",
       "      <td>NaN</td>\n",
       "      <td>NaN</td>\n",
       "      <td>NaN</td>\n",
       "    </tr>\n",
       "    <tr>\n",
       "      <th>2</th>\n",
       "      <td>sandisk</td>\n",
       "      <td>664</td>\n",
       "      <td>sandisk</td>\n",
       "      <td>SNDK</td>\n",
       "      <td>2.019792</td>\n",
       "      <td>0.719903</td>\n",
       "      <td>-0.013037</td>\n",
       "      <td>-0.116033</td>\n",
       "      <td>0.633154</td>\n",
       "      <td>0.406362</td>\n",
       "    </tr>\n",
       "    <tr>\n",
       "      <th>3</th>\n",
       "      <td>garmin</td>\n",
       "      <td>598</td>\n",
       "      <td>garmin</td>\n",
       "      <td>GRMN</td>\n",
       "      <td>0.640193</td>\n",
       "      <td>0.051083</td>\n",
       "      <td>0.346101</td>\n",
       "      <td>0.067355</td>\n",
       "      <td>0.187106</td>\n",
       "      <td>0.183989</td>\n",
       "    </tr>\n",
       "    <tr>\n",
       "      <th>4</th>\n",
       "      <td>intel</td>\n",
       "      <td>525</td>\n",
       "      <td>intel</td>\n",
       "      <td>INTC</td>\n",
       "      <td>0.439035</td>\n",
       "      <td>0.062574</td>\n",
       "      <td>0.193316</td>\n",
       "      <td>-0.120336</td>\n",
       "      <td>0.308792</td>\n",
       "      <td>0.443015</td>\n",
       "    </tr>\n",
       "  </tbody>\n",
       "</table>\n",
       "</div>"
      ],
      "text/plain": [
       "     brand     0  Company Ticker      2009      2010      2011      2012  \\\n",
       "0     sony  2164     sony    SNE       NaN       NaN       NaN       NaN   \n",
       "1    canon   773    canon    CAJ       NaN       NaN       NaN       NaN   \n",
       "2  sandisk   664  sandisk   SNDK  2.019792  0.719903 -0.013037 -0.116033   \n",
       "3   garmin   598   garmin   GRMN  0.640193  0.051083  0.346101  0.067355   \n",
       "4    intel   525    intel   INTC  0.439035  0.062574  0.193316 -0.120336   \n",
       "\n",
       "       2013      2014  \n",
       "0       NaN       NaN  \n",
       "1       NaN       NaN  \n",
       "2  0.633154  0.406362  \n",
       "3  0.187106  0.183989  \n",
       "4  0.308792  0.443015  "
      ]
     },
     "execution_count": 337,
     "metadata": {},
     "output_type": "execute_result"
    }
   ],
   "source": [
    "brands.head()"
   ]
  },
  {
   "cell_type": "code",
   "execution_count": 124,
   "metadata": {},
   "outputs": [],
   "source": [
    "brands = brands.merge(stocklist.iloc[:,[0,3]], on='Company')"
   ]
  },
  {
   "cell_type": "code",
   "execution_count": 162,
   "metadata": {},
   "outputs": [],
   "source": [
    "def get_return(ticker):\n",
    "    try:\n",
    "        prices = quandl.get(\"WIKI/\" + ticker, start_date=\"2008-1-1\", end_date=\"2015-1-1\", collapse='annual')['Adj. Close']\n",
    "        returns = ((prices/prices.shift(1)) - 1).iloc[1:].values.tolist()\n",
    "        return pd.Series(returns, index=[2009,2010,2011, 2012, 2013, 2014])\n",
    "    except Exception:\n",
    "        return pd.Series([np.nan]*6, index=[2009,2010,2011, 2012, 2013, 2014])"
   ]
  },
  {
   "cell_type": "code",
   "execution_count": 164,
   "metadata": {},
   "outputs": [
    {
     "name": "stdout",
     "output_type": "stream",
     "text": [
      "190.86 seconds\n"
     ]
    }
   ],
   "source": [
    "start_time = timeit.default_timer()\n",
    "brands[[2009,2010,2011, 2012, 2013, 2014]] = brands['Ticker'].apply(get_return)\n",
    "print('{0:.2f} seconds'.format(timeit.default_timer() - start_time))"
   ]
  },
  {
   "cell_type": "code",
   "execution_count": 340,
   "metadata": {},
   "outputs": [
    {
     "data": {
      "text/html": [
       "<div>\n",
       "<style scoped>\n",
       "    .dataframe tbody tr th:only-of-type {\n",
       "        vertical-align: middle;\n",
       "    }\n",
       "\n",
       "    .dataframe tbody tr th {\n",
       "        vertical-align: top;\n",
       "    }\n",
       "\n",
       "    .dataframe thead th {\n",
       "        text-align: right;\n",
       "    }\n",
       "</style>\n",
       "<table border=\"1\" class=\"dataframe\">\n",
       "  <thead>\n",
       "    <tr style=\"text-align: right;\">\n",
       "      <th></th>\n",
       "      <th>brand</th>\n",
       "      <th>0</th>\n",
       "      <th>Company</th>\n",
       "      <th>Ticker</th>\n",
       "      <th>2009</th>\n",
       "      <th>2010</th>\n",
       "      <th>2011</th>\n",
       "      <th>2012</th>\n",
       "      <th>2013</th>\n",
       "      <th>2014</th>\n",
       "    </tr>\n",
       "  </thead>\n",
       "  <tbody>\n",
       "    <tr>\n",
       "      <th>2</th>\n",
       "      <td>sandisk</td>\n",
       "      <td>664</td>\n",
       "      <td>sandisk</td>\n",
       "      <td>SNDK</td>\n",
       "      <td>2.019792</td>\n",
       "      <td>0.719903</td>\n",
       "      <td>-0.013037</td>\n",
       "      <td>-0.116033</td>\n",
       "      <td>0.633154</td>\n",
       "      <td>0.406362</td>\n",
       "    </tr>\n",
       "    <tr>\n",
       "      <th>3</th>\n",
       "      <td>garmin</td>\n",
       "      <td>598</td>\n",
       "      <td>garmin</td>\n",
       "      <td>GRMN</td>\n",
       "      <td>0.640193</td>\n",
       "      <td>0.051083</td>\n",
       "      <td>0.346101</td>\n",
       "      <td>0.067355</td>\n",
       "      <td>0.187106</td>\n",
       "      <td>0.183989</td>\n",
       "    </tr>\n",
       "    <tr>\n",
       "      <th>4</th>\n",
       "      <td>intel</td>\n",
       "      <td>525</td>\n",
       "      <td>intel</td>\n",
       "      <td>INTC</td>\n",
       "      <td>0.439035</td>\n",
       "      <td>0.062574</td>\n",
       "      <td>0.193316</td>\n",
       "      <td>-0.120336</td>\n",
       "      <td>0.308792</td>\n",
       "      <td>0.443015</td>\n",
       "    </tr>\n",
       "    <tr>\n",
       "      <th>5</th>\n",
       "      <td>apple</td>\n",
       "      <td>434</td>\n",
       "      <td>apple</td>\n",
       "      <td>AAPL</td>\n",
       "      <td>1.469033</td>\n",
       "      <td>0.530665</td>\n",
       "      <td>0.255580</td>\n",
       "      <td>0.325884</td>\n",
       "      <td>0.080603</td>\n",
       "      <td>0.406174</td>\n",
       "    </tr>\n",
       "    <tr>\n",
       "      <th>6</th>\n",
       "      <td>monster</td>\n",
       "      <td>423</td>\n",
       "      <td>monster</td>\n",
       "      <td>MNST</td>\n",
       "      <td>0.145243</td>\n",
       "      <td>0.361458</td>\n",
       "      <td>0.762433</td>\n",
       "      <td>0.146950</td>\n",
       "      <td>0.282551</td>\n",
       "      <td>0.598790</td>\n",
       "    </tr>\n",
       "    <tr>\n",
       "      <th>9</th>\n",
       "      <td>plantronics</td>\n",
       "      <td>360</td>\n",
       "      <td>plantronics</td>\n",
       "      <td>PLT</td>\n",
       "      <td>0.991212</td>\n",
       "      <td>0.441967</td>\n",
       "      <td>-0.036960</td>\n",
       "      <td>0.045406</td>\n",
       "      <td>0.271431</td>\n",
       "      <td>0.155080</td>\n",
       "    </tr>\n",
       "    <tr>\n",
       "      <th>10</th>\n",
       "      <td>pioneer</td>\n",
       "      <td>351</td>\n",
       "      <td>pioneer</td>\n",
       "      <td>PXD</td>\n",
       "      <td>1.987007</td>\n",
       "      <td>0.804814</td>\n",
       "      <td>0.031640</td>\n",
       "      <td>0.192137</td>\n",
       "      <td>0.727812</td>\n",
       "      <td>-0.191001</td>\n",
       "    </tr>\n",
       "    <tr>\n",
       "      <th>14</th>\n",
       "      <td>seagate</td>\n",
       "      <td>347</td>\n",
       "      <td>seagate</td>\n",
       "      <td>STX</td>\n",
       "      <td>3.134876</td>\n",
       "      <td>-0.173722</td>\n",
       "      <td>0.130114</td>\n",
       "      <td>0.952939</td>\n",
       "      <td>0.898282</td>\n",
       "      <td>0.224367</td>\n",
       "    </tr>\n",
       "    <tr>\n",
       "      <th>15</th>\n",
       "      <td>netgear</td>\n",
       "      <td>264</td>\n",
       "      <td>netgear</td>\n",
       "      <td>NTGR</td>\n",
       "      <td>0.900964</td>\n",
       "      <td>0.552789</td>\n",
       "      <td>-0.003266</td>\n",
       "      <td>0.174561</td>\n",
       "      <td>-0.164595</td>\n",
       "      <td>0.080146</td>\n",
       "    </tr>\n",
       "    <tr>\n",
       "      <th>16</th>\n",
       "      <td>cisco</td>\n",
       "      <td>263</td>\n",
       "      <td>cisco</td>\n",
       "      <td>CSCO</td>\n",
       "      <td>0.468712</td>\n",
       "      <td>-0.154971</td>\n",
       "      <td>-0.096302</td>\n",
       "      <td>0.115957</td>\n",
       "      <td>0.167249</td>\n",
       "      <td>0.279088</td>\n",
       "    </tr>\n",
       "  </tbody>\n",
       "</table>\n",
       "</div>"
      ],
      "text/plain": [
       "          brand    0      Company Ticker      2009      2010      2011  \\\n",
       "2       sandisk  664      sandisk   SNDK  2.019792  0.719903 -0.013037   \n",
       "3        garmin  598       garmin   GRMN  0.640193  0.051083  0.346101   \n",
       "4         intel  525        intel   INTC  0.439035  0.062574  0.193316   \n",
       "5         apple  434        apple   AAPL  1.469033  0.530665  0.255580   \n",
       "6       monster  423      monster   MNST  0.145243  0.361458  0.762433   \n",
       "9   plantronics  360  plantronics    PLT  0.991212  0.441967 -0.036960   \n",
       "10      pioneer  351      pioneer    PXD  1.987007  0.804814  0.031640   \n",
       "14      seagate  347      seagate    STX  3.134876 -0.173722  0.130114   \n",
       "15      netgear  264      netgear   NTGR  0.900964  0.552789 -0.003266   \n",
       "16        cisco  263        cisco   CSCO  0.468712 -0.154971 -0.096302   \n",
       "\n",
       "        2012      2013      2014  \n",
       "2  -0.116033  0.633154  0.406362  \n",
       "3   0.067355  0.187106  0.183989  \n",
       "4  -0.120336  0.308792  0.443015  \n",
       "5   0.325884  0.080603  0.406174  \n",
       "6   0.146950  0.282551  0.598790  \n",
       "9   0.045406  0.271431  0.155080  \n",
       "10  0.192137  0.727812 -0.191001  \n",
       "14  0.952939  0.898282  0.224367  \n",
       "15  0.174561 -0.164595  0.080146  \n",
       "16  0.115957  0.167249  0.279088  "
      ]
     },
     "execution_count": 340,
     "metadata": {},
     "output_type": "execute_result"
    }
   ],
   "source": [
    "brands.head(10)"
   ]
  },
  {
   "cell_type": "code",
   "execution_count": 338,
   "metadata": {},
   "outputs": [],
   "source": [
    "brands = brands[~brands[2009].isnull()]"
   ]
  },
  {
   "cell_type": "code",
   "execution_count": 339,
   "metadata": {},
   "outputs": [],
   "source": [
    "brands.drop_duplicates('brand', inplace=True)"
   ]
  },
  {
   "cell_type": "markdown",
   "metadata": {},
   "source": [
    "#### Load G1, G2, G3 Electronics Matrices from pickle"
   ]
  },
  {
   "cell_type": "code",
   "execution_count": 175,
   "metadata": {},
   "outputs": [],
   "source": [
    "def load_G_pickle(tag):\n",
    "    path = os.getcwd() + r'\\pickle\\\\'\n",
    "    return pickle.load(open(path + tag + '_G1_Brand.pkl', \"rb\" )), \\\n",
    "           pickle.load(open(path + tag + '_G2_Brand.pkl', \"rb\" )), \\\n",
    "           pickle.load(open(path + tag + '_G3_Brand.pkl', \"rb\" ))"
   ]
  },
  {
   "cell_type": "code",
   "execution_count": 179,
   "metadata": {},
   "outputs": [],
   "source": [
    "E_G1_Brand, E_G2_Brand, E_G3_Brand = load_G_pickle('E')"
   ]
  },
  {
   "cell_type": "code",
   "execution_count": 303,
   "metadata": {},
   "outputs": [],
   "source": [
    "if 0:\n",
    "    path = os.getcwd() + r'\\pickle'\n",
    "\n",
    "    E_bag_P = pickle.load(open(path + r'\\P_Elec.pkl', \"rb\" ))\n",
    "    E_bag_Q = pickle.load(open(path + r'\\Q_Elec.pkl', \"rb\" ))\n",
    "    E_bag_R = pickle.load(open(path + r'\\R_Elec.pkl', \"rb\" ))"
   ]
  },
  {
   "cell_type": "code",
   "execution_count": 304,
   "metadata": {},
   "outputs": [],
   "source": [
    "if 0:\n",
    "    for year in range(1999,2009):\n",
    "        E_bag_P.pop(year)\n",
    "        E_bag_Q.pop(year)\n",
    "        E_bag_R.pop(year)"
   ]
  },
  {
   "cell_type": "code",
   "execution_count": 298,
   "metadata": {},
   "outputs": [],
   "source": [
    "if 0:\n",
    "    filepath = r'C:\\Users\\David\\Google Drive (deh284@nyu.edu)\\datasets\\amazon\\processed'\n",
    "\n",
    "    cols = ['productid','title','brand']\n",
    "    dfElectOriginal = pd.read_csv(filepath + r'\\Electronics\\df_products_Elec.csv',usecols=cols)\n",
    "\n",
    "    prod_Elect = dfElect.index.values\n",
    "    row = []\n",
    "    col = []\n",
    "    k = 0\n",
    "    for prod in range(dfElectOriginal.shape[0]): \n",
    "        if dfElectOriginal.iloc[prod,0] in prod_Elect:\n",
    "            row.append(prod) \n",
    "            col.append(k)\n",
    "            k += 1\n",
    "\n",
    "    data = [1]*len(row)                           \n",
    "    E_Reduce = sparse.csr_matrix((data,(row,col)),shape=(dfElectOriginal.shape[0],dfElect.shape[0])) "
   ]
  },
  {
   "cell_type": "code",
   "execution_count": 305,
   "metadata": {},
   "outputs": [],
   "source": [
    "if 0:\n",
    "    for year in range(2009,2015):   \n",
    "        E_bag_P[year] = E_bag_P[year] + E_bag_P[year].T\n",
    "        E_bag_P[year] = E_Reduce.transpose().dot(E_bag_P[year]).dot(E_Reduce)\n",
    "        E_bag_Q[year] = E_Reduce.transpose().dot(E_bag_Q[year]).dot(E_Reduce)\n",
    "        E_bag_R[year] = E_Reduce.transpose().dot(E_bag_R[year]).dot(E_Reduce)"
   ]
  },
  {
   "cell_type": "code",
   "execution_count": 301,
   "metadata": {},
   "outputs": [],
   "source": [
    "if 0:\n",
    "    def prod2brandPQR(transform, bag_P, bag_Q, bag_R):\n",
    "        bag_P_brand = {}\n",
    "        bag_Q_brand = {}\n",
    "        bag_R_brand = {}\n",
    "        for y in bag_P.keys():\n",
    "            bag_P_brand[y] = transform.transpose().dot(bag_P[y]).dot(transform)\n",
    "            bag_Q_brand[y] = transform.transpose().dot(bag_Q[y]).dot(transform)\n",
    "            bag_R_brand[y] = transform.transpose().dot(bag_R[y]).dot(transform)\n",
    "\n",
    "        return bag_P_brand, bag_Q_brand, bag_R_brand"
   ]
  },
  {
   "cell_type": "code",
   "execution_count": 306,
   "metadata": {},
   "outputs": [],
   "source": [
    "if 0:\n",
    "    def prod2brand(df):\n",
    "        row = []\n",
    "        col = []\n",
    "        brands = df['brand'].unique().tolist()   # Create list of all individual brands\n",
    "\n",
    "        for prod in range(df.shape[0]):                # Iterate over all rows in product dataframe\n",
    "            row.append(prod)                           # Add row for each individual product\n",
    "            col.append(brands.index(df.iloc[prod,1]))  # Find related brand (column 1 -> see below) and append its index value\n",
    "\n",
    "        data = [1]*len(row)                            # Define the amount of data (# of rows/products * 1 brand each)\n",
    "        return sparse.csr_matrix((data,(row,col)),shape=(df.shape[0],len(brands))) # return n x m (products x brands) sparse matrix "
   ]
  },
  {
   "cell_type": "code",
   "execution_count": 307,
   "metadata": {},
   "outputs": [],
   "source": [
    "#E_Transform = prod2brand(dfElect)"
   ]
  },
  {
   "cell_type": "code",
   "execution_count": 310,
   "metadata": {},
   "outputs": [],
   "source": [
    "#E_bag_P_bEquity, E_bag_Q_bEquity, E_bag_R_bEquity = prod2brandPQR(E_Transform, E_bag_P, E_bag_Q, E_bag_R)"
   ]
  },
  {
   "cell_type": "markdown",
   "metadata": {},
   "source": [
    "#### Save Electronics Brand-level PQR to pickle "
   ]
  },
  {
   "cell_type": "code",
   "execution_count": 313,
   "metadata": {},
   "outputs": [],
   "source": [
    "if 0:\n",
    "    path = os.getcwd() + r'\\pickle'\n",
    "\n",
    "    pickle.dump(E_bag_P_bEquity, open(path + r'\\E_bag_P_bEquity.pkl', \"wb\" ))\n",
    "    pickle.dump(E_bag_Q_bEquity, open(path + r'\\E_bag_Q_bEquity.pkl', \"wb\" ))\n",
    "    pickle.dump(E_bag_R_bEquity, open(path + r'\\E_bag_R_bEquity.pkl', \"wb\" ))"
   ]
  },
  {
   "cell_type": "markdown",
   "metadata": {},
   "source": [
    "#### Load Electronics Brand-level PQR from pickle"
   ]
  },
  {
   "cell_type": "code",
   "execution_count": null,
   "metadata": {},
   "outputs": [],
   "source": [
    "path = os.getcwd() + r'\\pickle'\n",
    "\n",
    "E_bag_P_bEquity = pickle.load(open(path + r'\\E_bag_P_bEquity.pkl', \"rb\" ))\n",
    "E_bag_Q_bEquity = pickle.load(open(path + r'\\E_bag_Q_bEquity.pkl', \"rb\" ))\n",
    "E_bag_R_bEquity = pickle.load(open(path + r'\\E_bag_R_bEquity.pkl', \"rb\" ))"
   ]
  },
  {
   "cell_type": "markdown",
   "metadata": {},
   "source": [
    "#### Look for brands that have associated equity returns information "
   ]
  },
  {
   "cell_type": "code",
   "execution_count": 341,
   "metadata": {},
   "outputs": [],
   "source": [
    "validRows = [indx for indx, x in enumerate(dfElect['brand'].str.lower().unique().tolist()) \\\n",
    "             if x.lower() in brands['brand'].values.tolist()]"
   ]
  },
  {
   "cell_type": "markdown",
   "metadata": {},
   "source": [
    "#### Align rows of graph matrices with appropriate equity values"
   ]
  },
  {
   "cell_type": "code",
   "execution_count": 346,
   "metadata": {},
   "outputs": [],
   "source": [
    "brandList = dfElect['brand'].str.lower().unique().tolist()\n",
    "stockList = brands['brand'].values.tolist()\n",
    "brandIndx = [stockList.index(x) for x in brandList if x in stockList]"
   ]
  },
  {
   "cell_type": "code",
   "execution_count": 348,
   "metadata": {},
   "outputs": [
    {
     "data": {
      "text/plain": [
       "138"
      ]
     },
     "execution_count": 348,
     "metadata": {},
     "output_type": "execute_result"
    }
   ],
   "source": [
    "len(brandIndx)"
   ]
  },
  {
   "cell_type": "code",
   "execution_count": 314,
   "metadata": {},
   "outputs": [
    {
     "data": {
      "text/plain": [
       "dict_keys([2009, 2010, 2011, 2012, 2013, 2014])"
      ]
     },
     "execution_count": 314,
     "metadata": {},
     "output_type": "execute_result"
    }
   ],
   "source": [
    "E_bag_P_brand.keys()"
   ]
  },
  {
   "cell_type": "markdown",
   "metadata": {},
   "source": [
    "### Build, Fit & Run predictive return models"
   ]
  },
  {
   "cell_type": "markdown",
   "metadata": {},
   "source": [
    "#### Run Truncated SVD on Brand-level Electronics G1, G2, G3 & PQR, Define train (2009-2013) & test (2014) data "
   ]
  },
  {
   "cell_type": "code",
   "execution_count": 351,
   "metadata": {},
   "outputs": [],
   "source": [
    "n_components = 1\n",
    "\n",
    "svd_E_G1 = TruncatedSVD(n_components, n_iter=5, random_state=42)\n",
    "svd_E_G1.fit(E_G1_Brand)\n",
    "\n",
    "svd_E_G2 = TruncatedSVD(n_components, n_iter=5, random_state=42)\n",
    "svd_E_G2.fit(E_G2_Brand)\n",
    "\n",
    "svd_E_G3 = TruncatedSVD(n_components, n_iter=5, random_state=42)\n",
    "svd_E_G3.fit(E_G3_Brand)\n",
    "\n",
    "X_train = np.zeros((0,6))\n",
    "y_train = np.zeros((0))\n",
    "X_test = np.zeros((0,6))\n",
    "y_test = np.zeros((0))\n",
    "for year in E_bag_P_brand.keys():\n",
    "    \n",
    "    svd_E_P = TruncatedSVD(n_components, n_iter=5, random_state=42)\n",
    "    svd_E_P.fit(E_bag_P_brand[year])\n",
    "\n",
    "    svd_E_Q = TruncatedSVD(n_components, n_iter=5, random_state=42)\n",
    "    svd_E_Q.fit(E_bag_Q_brand[year])\n",
    "\n",
    "    svd_E_R = TruncatedSVD(n_components, n_iter=5, random_state=42)\n",
    "    svd_E_R.fit(E_bag_R_brand[year])\n",
    "    \n",
    "    X_Year = np.concatenate((svd_E_G1.components_[:,validRows].T, svd_E_G2.components_[:,validRows].T,\n",
    "                             svd_E_G3.components_[:,validRows].T, svd_E_P.components_[:,validRows].T,\n",
    "                             svd_E_Q.components_[:,validRows].T,  svd_E_R.components_[:,validRows].T), axis=1)\n",
    "    if year == 2014:\n",
    "        X_test = np.concatenate((X_test,X_Year),axis=0)\n",
    "        y_test = np.concatenate((y_test,brands[year].iloc[brandIndx]),axis=0)\n",
    "    else:\n",
    "        X_train = np.concatenate((X_train,X_Year),axis=0)\n",
    "        y_train = np.concatenate((y_train,brands[year].iloc[brandIndx]),axis=0)"
   ]
  },
  {
   "cell_type": "code",
   "execution_count": 317,
   "metadata": {},
   "outputs": [
    {
     "data": {
      "text/plain": [
       "(690, 6)"
      ]
     },
     "execution_count": 317,
     "metadata": {},
     "output_type": "execute_result"
    }
   ],
   "source": [
    "X_train.shape"
   ]
  },
  {
   "cell_type": "code",
   "execution_count": 323,
   "metadata": {},
   "outputs": [
    {
     "data": {
      "text/plain": [
       "(690,)"
      ]
     },
     "execution_count": 323,
     "metadata": {},
     "output_type": "execute_result"
    }
   ],
   "source": [
    "y_train.shape"
   ]
  },
  {
   "cell_type": "code",
   "execution_count": 357,
   "metadata": {},
   "outputs": [
    {
     "data": {
      "text/plain": [
       "array([[ 1.        , -0.00332472],\n",
       "       [-0.00332472,  1.        ]])"
      ]
     },
     "execution_count": 357,
     "metadata": {},
     "output_type": "execute_result"
    }
   ],
   "source": [
    "np.corrcoef(y_train, X_train[:,5])"
   ]
  },
  {
   "cell_type": "markdown",
   "metadata": {},
   "source": [
    "#### Fit Regression models"
   ]
  },
  {
   "cell_type": "code",
   "execution_count": 363,
   "metadata": {},
   "outputs": [
    {
     "name": "stdout",
     "output_type": "stream",
     "text": [
      "R2 for OLS: -0.685769858652\n",
      "R2 for Random Forest: -1.28979153987\n",
      "R2 for Gradient Boosting: -0.666942314862\n"
     ]
    }
   ],
   "source": [
    "#X_train, X_test, y_train, y_test = train_test_split(X, y, test_size=0.30, random_state=123)\n",
    "   \n",
    "regr_lin = linear_model.LinearRegression()\n",
    "print('R2 for OLS:', regr_lin.fit(X_train, y_train).score(X_test, y_test))\n",
    "\n",
    "regr_fst = RandomForestRegressor()\n",
    "print('R2 for Random Forest:', regr_fst.fit(X_train, y_train).score(X_test, y_test))\n",
    "\n",
    "regr_bst = GradientBoostingRegressor()\n",
    "print('R2 for Gradient Boosting:', regr_bst.fit(X_train, y_train).score(X_test, y_test))"
   ]
  },
  {
   "cell_type": "code",
   "execution_count": null,
   "metadata": {},
   "outputs": [],
   "source": []
  }
 ],
 "metadata": {
  "kernelspec": {
   "display_name": "Python 3",
   "language": "python",
   "name": "python3"
  },
  "language_info": {
   "codemirror_mode": {
    "name": "ipython",
    "version": 3
   },
   "file_extension": ".py",
   "mimetype": "text/x-python",
   "name": "python",
   "nbconvert_exporter": "python",
   "pygments_lexer": "ipython3",
   "version": "3.6.3"
  }
 },
 "nbformat": 4,
 "nbformat_minor": 2
}
